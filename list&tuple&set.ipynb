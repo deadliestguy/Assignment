{
 "cells": [
  {
   "cell_type": "code",
   "execution_count": 1,
   "id": "92045bd7-3149-4877-bd2d-c33e76fde85b",
   "metadata": {},
   "outputs": [],
   "source": [
    "l = [1 , 3+4j , 'Lai' , 4.67 ]"
   ]
  },
  {
   "cell_type": "code",
   "execution_count": 2,
   "id": "3f8649a3-6ee9-4ffd-95c5-8a5d2abc0977",
   "metadata": {},
   "outputs": [
    {
     "data": {
      "text/plain": [
       "[1, (3+4j), 'Lai', 4.67]"
      ]
     },
     "execution_count": 2,
     "metadata": {},
     "output_type": "execute_result"
    }
   ],
   "source": [
    "l"
   ]
  },
  {
   "cell_type": "code",
   "execution_count": 3,
   "id": "ee52a708-e523-4f57-b8e4-e89f863afb94",
   "metadata": {},
   "outputs": [
    {
     "data": {
      "text/plain": [
       "list"
      ]
     },
     "execution_count": 3,
     "metadata": {},
     "output_type": "execute_result"
    }
   ],
   "source": [
    "type(l)"
   ]
  },
  {
   "cell_type": "code",
   "execution_count": 4,
   "id": "59fe405c-fecb-4a2f-911f-8b2714adc2af",
   "metadata": {},
   "outputs": [],
   "source": [
    "s = 'pwskills'"
   ]
  },
  {
   "cell_type": "code",
   "execution_count": 5,
   "id": "7577e9a1-7873-4771-bf44-a9e52f1ddd44",
   "metadata": {},
   "outputs": [
    {
     "ename": "TypeError",
     "evalue": "can only concatenate list (not \"str\") to list",
     "output_type": "error",
     "traceback": [
      "\u001b[0;31m---------------------------------------------------------------------------\u001b[0m",
      "\u001b[0;31mTypeError\u001b[0m                                 Traceback (most recent call last)",
      "Cell \u001b[0;32mIn[5], line 1\u001b[0m\n\u001b[0;32m----> 1\u001b[0m \u001b[43ml\u001b[49m\u001b[43m \u001b[49m\u001b[38;5;241;43m+\u001b[39;49m\u001b[43ms\u001b[49m \n",
      "\u001b[0;31mTypeError\u001b[0m: can only concatenate list (not \"str\") to list"
     ]
    }
   ],
   "source": [
    "l +s "
   ]
  },
  {
   "cell_type": "code",
   "execution_count": 6,
   "id": "8c26f145-46a9-4eac-a058-c4b3e1f5c786",
   "metadata": {},
   "outputs": [
    {
     "data": {
      "text/plain": [
       "[1, (3+4j), 'Lai', 4.67]"
      ]
     },
     "execution_count": 6,
     "metadata": {},
     "output_type": "execute_result"
    }
   ],
   "source": [
    "l"
   ]
  },
  {
   "cell_type": "code",
   "execution_count": 7,
   "id": "23937b1c-ced8-45e8-96ff-02c725460681",
   "metadata": {},
   "outputs": [],
   "source": [
    "l1 = [1,2,3]"
   ]
  },
  {
   "cell_type": "code",
   "execution_count": 8,
   "id": "77cac0be-8cf6-45bc-828b-cee46e660b71",
   "metadata": {},
   "outputs": [
    {
     "data": {
      "text/plain": [
       "3"
      ]
     },
     "execution_count": 8,
     "metadata": {},
     "output_type": "execute_result"
    }
   ],
   "source": [
    "l1.pop()"
   ]
  },
  {
   "cell_type": "code",
   "execution_count": 9,
   "id": "a19169ef-c956-430a-be85-39acc7bf5eee",
   "metadata": {},
   "outputs": [
    {
     "data": {
      "text/plain": [
       "[1, 2]"
      ]
     },
     "execution_count": 9,
     "metadata": {},
     "output_type": "execute_result"
    }
   ],
   "source": [
    "l1"
   ]
  },
  {
   "cell_type": "code",
   "execution_count": 10,
   "id": "9402ef64-7cb0-4ab8-94c6-9cc2b7c9d995",
   "metadata": {},
   "outputs": [
    {
     "ename": "IndexError",
     "evalue": "pop index out of range",
     "output_type": "error",
     "traceback": [
      "\u001b[0;31m---------------------------------------------------------------------------\u001b[0m",
      "\u001b[0;31mIndexError\u001b[0m                                Traceback (most recent call last)",
      "Cell \u001b[0;32mIn[10], line 1\u001b[0m\n\u001b[0;32m----> 1\u001b[0m \u001b[43ml1\u001b[49m\u001b[38;5;241;43m.\u001b[39;49m\u001b[43mpop\u001b[49m\u001b[43m \u001b[49m\u001b[43m(\u001b[49m\u001b[38;5;241;43m2\u001b[39;49m\u001b[43m)\u001b[49m\n",
      "\u001b[0;31mIndexError\u001b[0m: pop index out of range"
     ]
    }
   ],
   "source": [
    "l1.pop (2)"
   ]
  },
  {
   "cell_type": "code",
   "execution_count": 11,
   "id": "ceb35696-b986-4f6b-928c-6f6246f571f0",
   "metadata": {},
   "outputs": [
    {
     "data": {
      "text/plain": [
       "1"
      ]
     },
     "execution_count": 11,
     "metadata": {},
     "output_type": "execute_result"
    }
   ],
   "source": [
    "l1.pop(0)"
   ]
  },
  {
   "cell_type": "code",
   "execution_count": 12,
   "id": "38767d62-9f7c-4b32-be7a-3303d9428099",
   "metadata": {},
   "outputs": [
    {
     "data": {
      "text/plain": [
       "[2]"
      ]
     },
     "execution_count": 12,
     "metadata": {},
     "output_type": "execute_result"
    }
   ],
   "source": [
    "l1"
   ]
  },
  {
   "cell_type": "code",
   "execution_count": 13,
   "id": "6c28903e-8de1-4e75-961d-3e17aa97ab45",
   "metadata": {},
   "outputs": [],
   "source": [
    "l1 = [3 , 6 , 5  ]"
   ]
  },
  {
   "cell_type": "code",
   "execution_count": 14,
   "id": "3625692e-32a9-4e1b-9230-cc859c483f56",
   "metadata": {},
   "outputs": [],
   "source": [
    "l1.remove(6)"
   ]
  },
  {
   "cell_type": "code",
   "execution_count": 15,
   "id": "a18efc22-bf94-4b1d-8332-05a5401e2253",
   "metadata": {},
   "outputs": [
    {
     "data": {
      "text/plain": [
       "[3, 5]"
      ]
     },
     "execution_count": 15,
     "metadata": {},
     "output_type": "execute_result"
    }
   ],
   "source": [
    "l1"
   ]
  },
  {
   "cell_type": "code",
   "execution_count": 16,
   "id": "b6ec8e67-1248-41d2-ac62-349d46cb57d1",
   "metadata": {},
   "outputs": [
    {
     "data": {
      "text/plain": [
       "[1, (3+4j), 'Lai', 4.67]"
      ]
     },
     "execution_count": 16,
     "metadata": {},
     "output_type": "execute_result"
    }
   ],
   "source": [
    "l"
   ]
  },
  {
   "cell_type": "code",
   "execution_count": 17,
   "id": "3656d487-025e-490d-9829-8d23f4e66fc4",
   "metadata": {},
   "outputs": [],
   "source": [
    "l.append(l1)"
   ]
  },
  {
   "cell_type": "code",
   "execution_count": 18,
   "id": "cb6d80de-b063-46b5-90ac-a29557d93307",
   "metadata": {},
   "outputs": [
    {
     "data": {
      "text/plain": [
       "[1, (3+4j), 'Lai', 4.67, [3, 5]]"
      ]
     },
     "execution_count": 18,
     "metadata": {},
     "output_type": "execute_result"
    }
   ],
   "source": [
    "l"
   ]
  },
  {
   "cell_type": "code",
   "execution_count": 19,
   "id": "b869e6c2-ba40-421a-8fb2-5929254d3fff",
   "metadata": {},
   "outputs": [
    {
     "ename": "IndexError",
     "evalue": "list index out of range",
     "output_type": "error",
     "traceback": [
      "\u001b[0;31m---------------------------------------------------------------------------\u001b[0m",
      "\u001b[0;31mIndexError\u001b[0m                                Traceback (most recent call last)",
      "Cell \u001b[0;32mIn[19], line 1\u001b[0m\n\u001b[0;32m----> 1\u001b[0m \u001b[43ml\u001b[49m\u001b[43m[\u001b[49m\u001b[38;5;241;43m5\u001b[39;49m\u001b[43m]\u001b[49m\n",
      "\u001b[0;31mIndexError\u001b[0m: list index out of range"
     ]
    }
   ],
   "source": [
    "l[5]"
   ]
  },
  {
   "cell_type": "code",
   "execution_count": 21,
   "id": "76bb5d38-91c0-4abf-9d79-3d604b7ab8b5",
   "metadata": {},
   "outputs": [],
   "source": [
    "\n",
    "l[4].remove(3)"
   ]
  },
  {
   "cell_type": "code",
   "execution_count": 22,
   "id": "c8a66a2a-bee1-48d0-93e5-334c88b26cb9",
   "metadata": {},
   "outputs": [
    {
     "data": {
      "text/plain": [
       "[1, (3+4j), 'Lai', 4.67, [5]]"
      ]
     },
     "execution_count": 22,
     "metadata": {},
     "output_type": "execute_result"
    }
   ],
   "source": [
    "l"
   ]
  },
  {
   "cell_type": "code",
   "execution_count": 23,
   "id": "4ec73868-d06a-4636-bfb7-f9be7437fcc3",
   "metadata": {},
   "outputs": [
    {
     "data": {
      "text/plain": [
       "'Lai'"
      ]
     },
     "execution_count": 23,
     "metadata": {},
     "output_type": "execute_result"
    }
   ],
   "source": []
  },
  {
   "cell_type": "code",
   "execution_count": 24,
   "id": "8cd2d5d3-66d0-4654-bd42-7e9af03f7e63",
   "metadata": {},
   "outputs": [
    {
     "data": {
      "text/plain": [
       "[5]"
      ]
     },
     "execution_count": 24,
     "metadata": {},
     "output_type": "execute_result"
    }
   ],
   "source": [
    "l1"
   ]
  },
  {
   "cell_type": "code",
   "execution_count": 25,
   "id": "f0cd412d-eda9-4757-a127-2c279c5a173e",
   "metadata": {},
   "outputs": [
    {
     "data": {
      "text/plain": [
       "[1, (3+4j), 'Lai', 4.67, [5]]"
      ]
     },
     "execution_count": 25,
     "metadata": {},
     "output_type": "execute_result"
    }
   ],
   "source": [
    "l"
   ]
  },
  {
   "cell_type": "code",
   "execution_count": 26,
   "id": "00c64494-8759-4bdc-920a-4a19d0205360",
   "metadata": {},
   "outputs": [
    {
     "data": {
      "text/plain": [
       "[[5], 4.67, 'Lai', (3+4j), 1]"
      ]
     },
     "execution_count": 26,
     "metadata": {},
     "output_type": "execute_result"
    }
   ],
   "source": [
    "l [ : : -1]"
   ]
  },
  {
   "cell_type": "code",
   "execution_count": 27,
   "id": "99bdd5b8-171b-4730-b698-a2d7672d373b",
   "metadata": {},
   "outputs": [
    {
     "data": {
      "text/plain": [
       "[1, (3+4j), 'Lai', 4.67, [5]]"
      ]
     },
     "execution_count": 27,
     "metadata": {},
     "output_type": "execute_result"
    }
   ],
   "source": [
    "l"
   ]
  },
  {
   "cell_type": "code",
   "execution_count": 28,
   "id": "ae0c5f40-33e5-4379-bf78-ae4b1023cd21",
   "metadata": {},
   "outputs": [],
   "source": [
    "# permanent reverse er jonno we use reverse function "
   ]
  },
  {
   "cell_type": "code",
   "execution_count": 29,
   "id": "e309d481-ce54-4af7-bd7e-606da76ea857",
   "metadata": {},
   "outputs": [],
   "source": [
    "l.reverse()"
   ]
  },
  {
   "cell_type": "code",
   "execution_count": 30,
   "id": "686757c9-f68c-4745-b958-8ebce963aa27",
   "metadata": {},
   "outputs": [
    {
     "data": {
      "text/plain": [
       "[[5], 4.67, 'Lai', (3+4j), 1]"
      ]
     },
     "execution_count": 30,
     "metadata": {},
     "output_type": "execute_result"
    }
   ],
   "source": [
    "l"
   ]
  },
  {
   "cell_type": "code",
   "execution_count": 31,
   "id": "79c2760d-4006-4015-b416-b9f8757f3ebc",
   "metadata": {},
   "outputs": [],
   "source": [
    "s = 'buck'"
   ]
  },
  {
   "cell_type": "code",
   "execution_count": 32,
   "id": "65517db8-fd7b-459b-9d49-969629db1605",
   "metadata": {},
   "outputs": [
    {
     "data": {
      "text/plain": [
       "'buck'"
      ]
     },
     "execution_count": 32,
     "metadata": {},
     "output_type": "execute_result"
    }
   ],
   "source": [
    "s\n"
   ]
  },
  {
   "cell_type": "code",
   "execution_count": 33,
   "id": "00f1c735-aa9c-433d-b951-d47f396ff3eb",
   "metadata": {},
   "outputs": [
    {
     "data": {
      "text/plain": [
       "'b'"
      ]
     },
     "execution_count": 33,
     "metadata": {},
     "output_type": "execute_result"
    }
   ],
   "source": [
    "s[0]"
   ]
  },
  {
   "cell_type": "code",
   "execution_count": 34,
   "id": "1bd07d15-338e-4ad8-a48d-ec703419b022",
   "metadata": {},
   "outputs": [
    {
     "ename": "TypeError",
     "evalue": "'str' object does not support item assignment",
     "output_type": "error",
     "traceback": [
      "\u001b[0;31m---------------------------------------------------------------------------\u001b[0m",
      "\u001b[0;31mTypeError\u001b[0m                                 Traceback (most recent call last)",
      "Cell \u001b[0;32mIn[34], line 1\u001b[0m\n\u001b[0;32m----> 1\u001b[0m \u001b[43ms\u001b[49m\u001b[43m[\u001b[49m\u001b[38;5;241;43m0\u001b[39;49m\u001b[43m]\u001b[49m \u001b[38;5;241m=\u001b[39m \u001b[38;5;124m'\u001b[39m\u001b[38;5;124mf\u001b[39m\u001b[38;5;124m'\u001b[39m\n",
      "\u001b[0;31mTypeError\u001b[0m: 'str' object does not support item assignment"
     ]
    }
   ],
   "source": [
    "s[0] = 'f'"
   ]
  },
  {
   "cell_type": "code",
   "execution_count": 35,
   "id": "b1eb6f99-de91-42e3-9637-312da2795711",
   "metadata": {},
   "outputs": [
    {
     "ename": "SyntaxError",
     "evalue": "invalid syntax (4003552984.py, line 1)",
     "output_type": "error",
     "traceback": [
      "\u001b[0;36m  Cell \u001b[0;32mIn[35], line 1\u001b[0;36m\u001b[0m\n\u001b[0;31m    l|\u001b[0m\n\u001b[0m      ^\u001b[0m\n\u001b[0;31mSyntaxError\u001b[0m\u001b[0;31m:\u001b[0m invalid syntax\n"
     ]
    }
   ],
   "source": [
    "l|"
   ]
  },
  {
   "cell_type": "code",
   "execution_count": 36,
   "id": "d37b718d-2936-4aec-bc65-1f6c53229a51",
   "metadata": {},
   "outputs": [
    {
     "data": {
      "text/plain": [
       "[[5], 4.67, 'Lai', (3+4j), 1]"
      ]
     },
     "execution_count": 36,
     "metadata": {},
     "output_type": "execute_result"
    }
   ],
   "source": [
    "l"
   ]
  },
  {
   "cell_type": "code",
   "execution_count": 37,
   "id": "dd0e24ef-b4ef-466a-b06c-756945188673",
   "metadata": {},
   "outputs": [],
   "source": [
    "l[2] = 'subham'"
   ]
  },
  {
   "cell_type": "code",
   "execution_count": 38,
   "id": "893f01dc-2ebf-4f46-8725-c71d733b8540",
   "metadata": {},
   "outputs": [
    {
     "data": {
      "text/plain": [
       "[[5], 4.67, 'subham', (3+4j), 1]"
      ]
     },
     "execution_count": 38,
     "metadata": {},
     "output_type": "execute_result"
    }
   ],
   "source": [
    "l"
   ]
  },
  {
   "cell_type": "code",
   "execution_count": 39,
   "id": "b5adcfee-88c7-4e66-bf52-849a4d8e0149",
   "metadata": {},
   "outputs": [
    {
     "data": {
      "text/plain": [
       "'buck'"
      ]
     },
     "execution_count": 39,
     "metadata": {},
     "output_type": "execute_result"
    }
   ],
   "source": [
    "s"
   ]
  },
  {
   "cell_type": "code",
   "execution_count": 40,
   "id": "ece2908c-04e9-416d-9047-bf9a5a6ad507",
   "metadata": {},
   "outputs": [
    {
     "data": {
      "text/plain": [
       "'fuck'"
      ]
     },
     "execution_count": 40,
     "metadata": {},
     "output_type": "execute_result"
    }
   ],
   "source": [
    "s.replace('b' , 'f')"
   ]
  },
  {
   "cell_type": "code",
   "execution_count": 41,
   "id": "5c9bc52a-4132-49a7-a639-4a3967210851",
   "metadata": {},
   "outputs": [],
   "source": [
    "t = ( 1 , 3 , 'lai' , 3+4j )"
   ]
  },
  {
   "cell_type": "code",
   "execution_count": 42,
   "id": "fe7f5785-fab5-4ae0-81c2-40301812b05f",
   "metadata": {},
   "outputs": [
    {
     "data": {
      "text/plain": [
       "(1, 3, 'lai', (3+4j))"
      ]
     },
     "execution_count": 42,
     "metadata": {},
     "output_type": "execute_result"
    }
   ],
   "source": [
    "t"
   ]
  },
  {
   "cell_type": "code",
   "execution_count": 43,
   "id": "51974d4b-6b5a-4a92-91b8-76529bc487a6",
   "metadata": {},
   "outputs": [
    {
     "ename": "TypeError",
     "evalue": "'tuple' object does not support item assignment",
     "output_type": "error",
     "traceback": [
      "\u001b[0;31m---------------------------------------------------------------------------\u001b[0m",
      "\u001b[0;31mTypeError\u001b[0m                                 Traceback (most recent call last)",
      "Cell \u001b[0;32mIn[43], line 1\u001b[0m\n\u001b[0;32m----> 1\u001b[0m \u001b[43mt\u001b[49m\u001b[43m[\u001b[49m\u001b[38;5;241;43m0\u001b[39;49m\u001b[43m]\u001b[49m \u001b[38;5;241m=\u001b[39m \u001b[38;5;241m5\u001b[39m\n",
      "\u001b[0;31mTypeError\u001b[0m: 'tuple' object does not support item assignment"
     ]
    }
   ],
   "source": [
    "t[0] = 5"
   ]
  },
  {
   "cell_type": "code",
   "execution_count": 44,
   "id": "aba4b6de-3d88-480b-b95a-a45527bb2988",
   "metadata": {},
   "outputs": [
    {
     "data": {
      "text/plain": [
       "(1, 3, 'lai', (3+4j))"
      ]
     },
     "execution_count": 44,
     "metadata": {},
     "output_type": "execute_result"
    }
   ],
   "source": [
    "t"
   ]
  },
  {
   "cell_type": "code",
   "execution_count": 45,
   "id": "3a972466-90d8-4493-8654-36689477ab18",
   "metadata": {},
   "outputs": [
    {
     "data": {
      "text/plain": [
       "((3+4j), 'lai', 3, 1)"
      ]
     },
     "execution_count": 45,
     "metadata": {},
     "output_type": "execute_result"
    }
   ],
   "source": [
    "t[::-1]"
   ]
  },
  {
   "cell_type": "code",
   "execution_count": 46,
   "id": "b89374e8-59e5-45b2-bd5d-e6b222fd6c3f",
   "metadata": {},
   "outputs": [
    {
     "ename": "AttributeError",
     "evalue": "'tuple' object has no attribute 'reverse'",
     "output_type": "error",
     "traceback": [
      "\u001b[0;31m---------------------------------------------------------------------------\u001b[0m",
      "\u001b[0;31mAttributeError\u001b[0m                            Traceback (most recent call last)",
      "Cell \u001b[0;32mIn[46], line 1\u001b[0m\n\u001b[0;32m----> 1\u001b[0m \u001b[43mt\u001b[49m\u001b[38;5;241;43m.\u001b[39;49m\u001b[43mreverse\u001b[49m()\n",
      "\u001b[0;31mAttributeError\u001b[0m: 'tuple' object has no attribute 'reverse'"
     ]
    }
   ],
   "source": [
    "t."
   ]
  },
  {
   "cell_type": "code",
   "execution_count": 47,
   "id": "cfc22eaf-509e-4cff-b4f0-00580cb741d7",
   "metadata": {},
   "outputs": [
    {
     "data": {
      "text/plain": [
       "1"
      ]
     },
     "execution_count": 47,
     "metadata": {},
     "output_type": "execute_result"
    }
   ],
   "source": [
    "t.index(3)"
   ]
  },
  {
   "cell_type": "code",
   "execution_count": 48,
   "id": "fa885447-e810-424e-87cf-2c107207d2c2",
   "metadata": {},
   "outputs": [
    {
     "data": {
      "text/plain": [
       "0"
      ]
     },
     "execution_count": 48,
     "metadata": {},
     "output_type": "execute_result"
    }
   ],
   "source": [
    "t.count(-3)"
   ]
  },
  {
   "cell_type": "code",
   "execution_count": null,
   "id": "42805081-544d-4f5e-87db-d7c26965000c",
   "metadata": {},
   "outputs": [],
   "source": []
  }
 ],
 "metadata": {
  "kernelspec": {
   "display_name": "Python 3 (ipykernel)",
   "language": "python",
   "name": "python3"
  },
  "language_info": {
   "codemirror_mode": {
    "name": "ipython",
    "version": 3
   },
   "file_extension": ".py",
   "mimetype": "text/x-python",
   "name": "python",
   "nbconvert_exporter": "python",
   "pygments_lexer": "ipython3",
   "version": "3.10.8"
  }
 },
 "nbformat": 4,
 "nbformat_minor": 5
}
